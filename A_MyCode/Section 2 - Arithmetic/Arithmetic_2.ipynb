{
 "cells": [
  {
   "cell_type": "code",
   "execution_count": null,
   "id": "initial_id",
   "metadata": {
    "collapsed": true
   },
   "outputs": [],
   "source": [
    ""
   ]
  },
  {
   "metadata": {
    "ExecuteTime": {
     "end_time": "2025-07-07T19:36:35.336735Z",
     "start_time": "2025-07-07T19:36:35.334389Z"
    }
   },
   "cell_type": "code",
   "source": "from IPython.display import display, Math",
   "id": "d3828ba2b5ab30ab",
   "outputs": [],
   "execution_count": 2
  },
  {
   "metadata": {
    "ExecuteTime": {
     "end_time": "2025-07-07T19:46:21.074312Z",
     "start_time": "2025-07-07T19:46:21.070314Z"
    }
   },
   "cell_type": "code",
   "source": [
    "x = 3.4\n",
    "y = 17\n",
    "\n",
    "display(Math(str(x) + ' + ' + str(y) + ' = ' + str(x + y)))\n"
   ],
   "id": "de47bbb4645de3e4",
   "outputs": [
    {
     "data": {
      "text/plain": [
       "<IPython.core.display.Math object>"
      ],
      "text/latex": "$\\displaystyle 3.4 + 17 = 20.4$"
     },
     "metadata": {},
     "output_type": "display_data"
    }
   ],
   "execution_count": 14
  },
  {
   "metadata": {
    "ExecuteTime": {
     "end_time": "2025-07-07T19:46:23.583446Z",
     "start_time": "2025-07-07T19:46:23.580279Z"
    }
   },
   "cell_type": "code",
   "source": "display(Math('%g + %g = %g' % (x, y, x + y)))",
   "id": "73e97c775f2e19e0",
   "outputs": [
    {
     "data": {
      "text/plain": [
       "<IPython.core.display.Math object>"
      ],
      "text/latex": "$\\displaystyle 3.4 + 17 = 20.4$"
     },
     "metadata": {},
     "output_type": "display_data"
    }
   ],
   "execution_count": 15
  },
  {
   "metadata": {
    "ExecuteTime": {
     "end_time": "2025-07-07T19:46:25.093204Z",
     "start_time": "2025-07-07T19:46:25.090302Z"
    }
   },
   "cell_type": "code",
   "source": "display(Math('%g / %g = %g' % (x, y, x / y)))",
   "id": "c019d152dcb7a699",
   "outputs": [
    {
     "data": {
      "text/plain": [
       "<IPython.core.display.Math object>"
      ],
      "text/latex": "$\\displaystyle 3.4 / 17 = 0.2$"
     },
     "metadata": {},
     "output_type": "display_data"
    }
   ],
   "execution_count": 16
  },
  {
   "metadata": {
    "ExecuteTime": {
     "end_time": "2025-07-07T19:48:29.441599Z",
     "start_time": "2025-07-07T19:48:29.438271Z"
    }
   },
   "cell_type": "code",
   "source": [
    "display(Math('\\\\frac{%g}{%g} = %g' % (x, y, x / y)))\n",
    "display(Math('%g \\\\times {%g} = %g' % (x, y, x * y)))"
   ],
   "id": "5b25b2033b1eeafd",
   "outputs": [
    {
     "data": {
      "text/plain": [
       "<IPython.core.display.Math object>"
      ],
      "text/latex": "$\\displaystyle \\frac{3.4}{17} = 0.2$"
     },
     "metadata": {},
     "output_type": "display_data"
    },
    {
     "data": {
      "text/plain": [
       "<IPython.core.display.Math object>"
      ],
      "text/latex": "$\\displaystyle 3.4 \\times {17} = 57.8$"
     },
     "metadata": {},
     "output_type": "display_data"
    }
   ],
   "execution_count": 20
  },
  {
   "metadata": {
    "ExecuteTime": {
     "end_time": "2025-07-07T19:55:06.672678Z",
     "start_time": "2025-07-07T19:55:06.667211Z"
    }
   },
   "cell_type": "code",
   "source": [
    "x = 7\n",
    "y = -2\n",
    "z = 5\n",
    "display(Math('3x(4 + y) = 42'))\n",
    "display(Math('3 \\\\times %g ( 4 + %g ) = %g' % (x, y, 3 * x * (4 + y))))\n",
    "display(Math('-y - \\\\frac{x + 3}{z} = 0'))\n",
    "display(Math('-%g - \\\\frac{%g + 3}{%g} = %g' % (y, x, z, -y - (x + 3) / z)))\n"
   ],
   "id": "ef424602e8e83cb0",
   "outputs": [
    {
     "data": {
      "text/plain": [
       "<IPython.core.display.Math object>"
      ],
      "text/latex": "$\\displaystyle 3x(4 + y) = 42$"
     },
     "metadata": {},
     "output_type": "display_data"
    },
    {
     "data": {
      "text/plain": [
       "<IPython.core.display.Math object>"
      ],
      "text/latex": "$\\displaystyle 3 \\times 7 ( 4 + -2 ) = 42$"
     },
     "metadata": {},
     "output_type": "display_data"
    },
    {
     "data": {
      "text/plain": [
       "<IPython.core.display.Math object>"
      ],
      "text/latex": "$\\displaystyle -y - \\frac{x + 3}{z} = 0$"
     },
     "metadata": {},
     "output_type": "display_data"
    },
    {
     "data": {
      "text/plain": [
       "<IPython.core.display.Math object>"
      ],
      "text/latex": "$\\displaystyle --2 - \\frac{7 + 3}{5} = 0$"
     },
     "metadata": {},
     "output_type": "display_data"
    }
   ],
   "execution_count": 31
  }
 ],
 "metadata": {
  "kernelspec": {
   "display_name": "Python 3",
   "language": "python",
   "name": "python3"
  },
  "language_info": {
   "codemirror_mode": {
    "name": "ipython",
    "version": 2
   },
   "file_extension": ".py",
   "mimetype": "text/x-python",
   "name": "python",
   "nbconvert_exporter": "python",
   "pygments_lexer": "ipython2",
   "version": "2.7.6"
  }
 },
 "nbformat": 4,
 "nbformat_minor": 5
}
